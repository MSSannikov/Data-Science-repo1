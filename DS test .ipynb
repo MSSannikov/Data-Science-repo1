{
 "cells": [
  {
   "cell_type": "code",
   "execution_count": 6,
   "id": "0403529a",
   "metadata": {},
   "outputs": [
    {
     "data": {
      "text/plain": [
       "array([1, 3, 5, 7, 9])"
      ]
     },
     "execution_count": 6,
     "metadata": {},
     "output_type": "execute_result"
    }
   ],
   "source": [
    "import numpy as np\n",
    "np.arange(start=1,stop=10, step=2)"
   ]
  }
 ],
 "metadata": {
  "kernelspec": {
   "display_name": "my_env_3_10",
   "language": "python",
   "name": "my_env_3_10"
  },
  "language_info": {
   "codemirror_mode": {
    "name": "ipython",
    "version": 3
   },
   "file_extension": ".py",
   "mimetype": "text/x-python",
   "name": "python",
   "nbconvert_exporter": "python",
   "pygments_lexer": "ipython3",
   "version": "3.8.10"
  }
 },
 "nbformat": 4,
 "nbformat_minor": 5
}
